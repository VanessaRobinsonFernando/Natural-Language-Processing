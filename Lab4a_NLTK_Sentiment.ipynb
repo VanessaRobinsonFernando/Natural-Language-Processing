{
 "cells": [
  {
   "cell_type": "code",
   "execution_count": 1,
   "id": "aa786f2d-29bc-4435-a135-83c272c7a91a",
   "metadata": {},
   "outputs": [],
   "source": [
    "import nltk"
   ]
  },
  {
   "cell_type": "code",
   "execution_count": 2,
   "id": "6ec0fd7e-091c-4e38-8d38-0130f7c42c0c",
   "metadata": {},
   "outputs": [
    {
     "name": "stderr",
     "output_type": "stream",
     "text": [
      "[nltk_data] Downloading package twitter_samples to\n",
      "[nltk_data]     C:\\Users\\User\\AppData\\Roaming\\nltk_data...\n",
      "[nltk_data]   Package twitter_samples is already up-to-date!\n"
     ]
    }
   ],
   "source": [
    "nltk.download('twitter_samples')\n",
    "from nltk.corpus import twitter_samples"
   ]
  },
  {
   "cell_type": "code",
   "execution_count": 3,
   "id": "e9924a71-0791-462d-8341-f8e561c6f8fb",
   "metadata": {},
   "outputs": [
    {
     "name": "stderr",
     "output_type": "stream",
     "text": [
      "[nltk_data] Downloading package punkt to\n",
      "[nltk_data]     C:\\Users\\User\\AppData\\Roaming\\nltk_data...\n",
      "[nltk_data]   Package punkt is already up-to-date!\n"
     ]
    },
    {
     "data": {
      "text/plain": [
       "True"
      ]
     },
     "execution_count": 3,
     "metadata": {},
     "output_type": "execute_result"
    }
   ],
   "source": [
    "#Preprocessing - Tokenization\n",
    "#Punkt is a pre-trained model that helps you tokenize words and sentences.\n",
    "nltk.download('punkt')"
   ]
  },
  {
   "cell_type": "code",
   "execution_count": 4,
   "id": "6574c564-f4b2-4eb5-aa3a-5d64098ea689",
   "metadata": {},
   "outputs": [],
   "source": [
    "#The json files are datasets of tweets that are labelled as either positive, negative, or neutral.\n",
    "positive_tweets = twitter_samples.strings('positive_tweets.json') # has 5000\n",
    "#tweets with positive sentiments\n",
    "negative_tweets = twitter_samples.strings('negative_tweets.json') # has 5000\n",
    "#tweets with negative sentiments\n",
    "text = twitter_samples.strings('tweets.20150430-223406.json') # has 20000 tweets\n",
    "#with neutral/no sentiments"
   ]
  },
  {
   "cell_type": "code",
   "execution_count": 5,
   "id": "ffa323d7-13d4-4a3f-9540-db8cbed5250f",
   "metadata": {},
   "outputs": [
    {
     "name": "stdout",
     "output_type": "stream",
     "text": [
      "['#FollowFriday', '@France_Inte', '@PKuchly57', '@Milipol_Paris', 'for', 'being', 'top', 'engaged', 'members', 'in', 'my', 'community', 'this', 'week', ':)']\n"
     ]
    }
   ],
   "source": [
    "# tokenize a tweet from positive_tweets.json using the tokenized function and printing it\n",
    "tweet_tokens = twitter_samples.tokenized('positive_tweets.json')\n",
    "print(tweet_tokens[0])"
   ]
  },
  {
   "cell_type": "code",
   "execution_count": 6,
   "id": "7057a804-c891-4faa-b613-679cb40016b4",
   "metadata": {},
   "outputs": [
    {
     "name": "stderr",
     "output_type": "stream",
     "text": [
      "[nltk_data] Downloading package wordnet to\n",
      "[nltk_data]     C:\\Users\\User\\AppData\\Roaming\\nltk_data...\n",
      "[nltk_data]   Package wordnet is already up-to-date!\n",
      "[nltk_data] Downloading package averaged_perceptron_tagger to\n",
      "[nltk_data]     C:\\Users\\User\\AppData\\Roaming\\nltk_data...\n",
      "[nltk_data]   Package averaged_perceptron_tagger is already up-to-\n",
      "[nltk_data]       date!\n"
     ]
    },
    {
     "data": {
      "text/plain": [
       "True"
      ]
     },
     "execution_count": 6,
     "metadata": {},
     "output_type": "execute_result"
    }
   ],
   "source": [
    "#Preprocessing - Normalization\n",
    "'''The wordnet resource is a lexical database for the English language that helps the script determine the\n",
    "base word, while the averaged_perceptron_tagger resource helps determine the context of a word in a\n",
    "sentence'''\n",
    "# downloading both resources\n",
    "nltk.download('wordnet')\n",
    "nltk.download('averaged_perceptron_tagger')"
   ]
  },
  {
   "cell_type": "code",
   "execution_count": 20,
   "id": "de96e5b7-63d4-4eda-a330-781ca3734ec1",
   "metadata": {},
   "outputs": [
    {
     "name": "stdout",
     "output_type": "stream",
     "text": [
      "[('#FollowFriday', 'JJ'), ('@France_Inte', 'NNP'), ('@PKuchly57', 'NNP'), ('@Milipol_Paris', 'NNP'), ('for', 'IN'), ('being', 'VBG'), ('top', 'JJ'), ('engaged', 'VBN'), ('members', 'NNS'), ('in', 'IN'), ('my', 'PRP$'), ('community', 'NN'), ('this', 'DT'), ('week', 'NN'), (':)', 'NN')]\n"
     ]
    }
   ],
   "source": [
    " \n",
    "from nltk.tag import pos_tag\n",
    "from nltk.corpus import twitter_samples\n",
    "tweet_tokens = twitter_samples.tokenized('positive_tweets.json')\n",
    "print(pos_tag(tweet_tokens[0])) # POS-tags the tokens in the first tweet in the positive_tweets.json dataset"
   ]
  },
  {
   "cell_type": "code",
   "execution_count": 21,
   "id": "0a4fd46a-aee1-4f17-84c4-48b469f49d89",
   "metadata": {},
   "outputs": [
    {
     "name": "stdout",
     "output_type": "stream",
     "text": [
      "['#FollowFriday']\n"
     ]
    }
   ],
   "source": [
    "'''This code imports the WordNetLemmatizer class and initializes it to a variable, lemmatizer.\n",
    "The function lemmatize_sentence first gets the position tag of each token of a tweet. Within the if\n",
    "statement, if the tag starts with NN, the token is assigned as a noun. Similarly, if the tag starts with VB, the\n",
    "token is assigned as a verb'''\n",
    "\n",
    "from nltk.stem.wordnet import WordNetLemmatizer\n",
    "def lemmatize_sentence(tokens):\n",
    "    lemmatizer = WordNetLemmatizer()\n",
    "    lemmatized_sentence = []\n",
    "    for word, tag in pos_tag(tokens):\n",
    "        if tag.startswith('NN'): # we identify tokens tagged with \"NN\" as nouns\n",
    "            pos = 'n'\n",
    "        elif tag.startswith('VB'): # we identify tokens tagged with \"VB\" as verbs\n",
    "            pos = 'v'\n",
    "        else:\n",
    "            pos = 'a'\n",
    "# we are getting the \"lemma\" of each token with the token and their POS as arguments and adding the resulting\n",
    "# lemma to the lemmatized_sentence array\n",
    "        lemmatized_sentence.append(lemmatizer.lemmatize(word, pos))\n",
    "        return lemmatized_sentence\n",
    "print(lemmatize_sentence(tweet_tokens[0])) # this prints the tokens as their root form"
   ]
  },
  {
   "cell_type": "code",
   "execution_count": 22,
   "id": "9f5f0860-342e-4f6b-b08a-079bb19cb7e3",
   "metadata": {},
   "outputs": [],
   "source": [
    "#Preprocessing - Removing Noise\n",
    "'''Noise is any part of the text that does not add meaning or information to data. For instance, the most\n",
    "common words in a language are called stop words. Some examples of stop words are “is”, “the”, and “a”.'''\n",
    "\n",
    "'''The modules re and string are also imported to use in the noise-removal process. The re module stands\n",
    "for regular expressions and is used for pattern matching and manipulation of strings, while the string\n",
    "module provides a collection of string constants and functions to work with strings.'''\n",
    "\n",
    "import re, string\n",
    "def remove_noise(tweet_tokens, stop_words=()):\n",
    "    cleaned_tokens = []\n",
    "    \n",
    "    for token, tag in pos_tag(tweet_tokens):\n",
    "        # removes all URLs or anything that starts with http:// or https://\n",
    "        token = re.sub('http[s]?://(?:[a-zA-Z]|[0-9]|[$-_@.&+#]|[!*\\(\\),]|'\\\n",
    "                      '(?:%[0-9a-fA-F][0-9a-fA-F]))+','', token)\n",
    "        # removes all username mentions or anything that starts with @\n",
    "        token = re.sub(\"(@[A-Za-z0-9_]+)\",\"\", token)\n",
    "        \n",
    "        # we are adding the lemmatize_sentence function from earlier here\n",
    "        if tag.startswith(\"NN\"):\n",
    "            pos = 'n'\n",
    "        elif tag.startswith('VB'):\n",
    "            pos = 'v'\n",
    "        else:\n",
    "            pos = 'a'\n",
    "            \n",
    "        lemmatizer = WordNetLemmatizer()\n",
    "        token = lemmatizer.lemmatize(token, pos)\n",
    "        # this line adds all tokens with more than zero length that are not punctuation marks and\n",
    "        # are not stop words in the cleaned_tokens array\n",
    "        if len(token) > 0 and token not in string.punctuation and token.lower() not in stop_words:\n",
    "            cleaned_tokens.append(token.lower())\n",
    "    return cleaned_tokens\n"
   ]
  },
  {
   "cell_type": "code",
   "execution_count": 23,
   "id": "f6ea6107-58a9-4581-9ea8-02c3f4726298",
   "metadata": {},
   "outputs": [
    {
     "name": "stderr",
     "output_type": "stream",
     "text": [
      "[nltk_data] Downloading package stopwords to\n",
      "[nltk_data]     C:\\Users\\User\\AppData\\Roaming\\nltk_data...\n",
      "[nltk_data]   Package stopwords is already up-to-date!\n"
     ]
    },
    {
     "data": {
      "text/plain": [
       "True"
      ]
     },
     "execution_count": 23,
     "metadata": {},
     "output_type": "execute_result"
    }
   ],
   "source": [
    "nltk.download('stopwords')\n"
   ]
  },
  {
   "cell_type": "code",
   "execution_count": 24,
   "id": "a22155dd-d595-4cdc-9e8a-287c169c180b",
   "metadata": {},
   "outputs": [
    {
     "name": "stdout",
     "output_type": "stream",
     "text": [
      "['#followfriday', 'top', 'engage', 'member', 'community', 'week', ':)']\n"
     ]
    }
   ],
   "source": [
    "from nltk.corpus import stopwords\n",
    "stop_words = stopwords.words('english') # specifying to use only stop words in the English language\n",
    "print(remove_noise(tweet_tokens[0], stop_words)) # we are using the remove_noise function defined in the previous cell"
   ]
  },
  {
   "cell_type": "code",
   "execution_count": 25,
   "id": "1ae8cedd-45c6-4ac0-8e9a-c3c156aabc38",
   "metadata": {},
   "outputs": [],
   "source": [
    "# Comparing Tokens Before and After Preprocessing\n",
    "positive_tweet_tokens = twitter_samples.tokenized('positive_tweets.json')\n",
    "negative_tweet_tokens = twitter_samples.tokenized('negative_tweets.json')\n",
    "\n",
    "positive_cleaned_tokens_list = []\n",
    "negative_cleaned_tokens_list = []\n",
    "\n",
    "for tokens in positive_tweet_tokens:\n",
    "    positive_cleaned_tokens_list.append(remove_noise(tokens, stop_words))\n",
    "for tokens in negative_tweet_tokens:\n",
    "    negative_cleaned_tokens_list.append(remove_noise(tokens, stop_words))"
   ]
  },
  {
   "cell_type": "code",
   "execution_count": 26,
   "id": "24d5c41b-585c-48b2-bb6c-605aa398a833",
   "metadata": {},
   "outputs": [
    {
     "name": "stdout",
     "output_type": "stream",
     "text": [
      "This are the tokens before preprocessing:  ['Dang', 'that', 'is', 'some', 'rad', '@AbzuGame', '#fanart', '!', ':D', 'https://t.co/bI8k8tb9ht'] \n",
      "\n",
      "This are the tokens after preprocessing: ['dang', 'rad', '#fanart', ':d']\n"
     ]
    }
   ],
   "source": [
    "print(\"This are the tokens before preprocessing: \",positive_tweet_tokens[500],\"\\n\")\n",
    "print(\"This are the tokens after preprocessing:\",positive_cleaned_tokens_list[500])"
   ]
  },
  {
   "cell_type": "code",
   "execution_count": 27,
   "id": "60a91745-d1d3-41ef-b589-daf1e0816070",
   "metadata": {},
   "outputs": [],
   "source": [
    "#Determining Word Density\n",
    "def get_all_words(cleaned_tokens_list):\n",
    "    for tokens in cleaned_tokens_list:\n",
    "        for token in tokens:\n",
    "            yield token\n",
    "all_pos_words = get_all_words(positive_cleaned_tokens_list)"
   ]
  },
  {
   "cell_type": "code",
   "execution_count": 28,
   "id": "e69ff026-075d-4c0f-9b88-bcb8229ec4bf",
   "metadata": {},
   "outputs": [
    {
     "name": "stdout",
     "output_type": "stream",
     "text": [
      "[(':)', 3691), (':-)', 701), (':d', 658), ('thanks', 388), ('follow', 357), ('love', 333), ('...', 290), ('good', 283), ('get', 263), ('thank', 253)]\n"
     ]
    }
   ],
   "source": [
    "from nltk import FreqDist\n",
    "\n",
    "freq_dist_pos = FreqDist(all_pos_words)\n",
    "print(freq_dist_pos.most_common(10))"
   ]
  },
  {
   "cell_type": "code",
   "execution_count": 29,
   "id": "af36a2f3-0c8b-4122-80ec-3a58666f2f5e",
   "metadata": {},
   "outputs": [],
   "source": [
    "#Preparing Data for the Model\n",
    "'''converts the tweets from a list of cleaned tokens to dictionaries with keys as the tokens and True\n",
    "as values. The corresponding dictionaries are stored in positive_tokens_for_model and.\n",
    "negative_tokens_for_model'''\n",
    "\n",
    "def get_tweets_for_model(cleaned_tokens_list):\n",
    "    for tweet_tokens in cleaned_tokens_list:\n",
    "        yield dict([token, True] for token in tweet_tokens)\n",
    "positive_tokens_for_model = get_tweets_for_model(positive_cleaned_tokens_list)\n",
    "negative_tokens_for_model = get_tweets_for_model(negative_cleaned_tokens_list)"
   ]
  },
  {
   "cell_type": "code",
   "execution_count": 30,
   "id": "f86a3d83-808e-4be3-9518-b7ac6f157ad7",
   "metadata": {},
   "outputs": [],
   "source": [
    "#Splitting the Dataset for Training and Testing the Model\n",
    "import random\n",
    "# attaches the positive or negative label\n",
    "positive_dataset = [(tweet_dict, \"Positive\")\n",
    "                     for tweet_dict in positive_tokens_for_model]\n",
    "negative_dataset = [(tweet_dict, \"Negative\")\n",
    "                    for tweet_dict in negative_tokens_for_model]\n",
    "\n",
    "# putting the positive and negative dataset into one combined dataset\n",
    "dataset = positive_dataset + negative_dataset\n",
    "# shuffling the dataset so sentiments are scattered throughout the dataset\n",
    "random.shuffle(dataset)\n",
    "# assigning the train and test data; train is from 0 to 6999 and test is 7000 to 9999\n",
    "train_data = dataset[:7000]\n",
    "test_data = dataset[7000:]"
   ]
  },
  {
   "cell_type": "code",
   "execution_count": 31,
   "id": "78f73342-0898-4016-abc0-9e0b47b51d21",
   "metadata": {},
   "outputs": [
    {
     "name": "stdout",
     "output_type": "stream",
     "text": [
      "Accuracy is: 0.9956666666666667\n",
      "Most Informative Features\n",
      "                      :( = True           Negati : Positi =   2065.2 : 1.0\n",
      "                      :) = True           Positi : Negati =   1636.3 : 1.0\n",
      "                     sad = True           Negati : Positi =     35.2 : 1.0\n",
      "                follower = True           Positi : Negati =     22.7 : 1.0\n",
      "                    luck = True           Positi : Negati =     15.8 : 1.0\n",
      "                     x15 = True           Negati : Positi =     15.6 : 1.0\n",
      "                    damn = True           Negati : Positi =     14.9 : 1.0\n",
      "                  arrive = True           Positi : Negati =     14.2 : 1.0\n",
      "              appreciate = True           Positi : Negati =     13.1 : 1.0\n",
      "                   thank = True           Positi : Negati =     12.6 : 1.0\n",
      "None\n"
     ]
    }
   ],
   "source": [
    "# Building and Testing the Model\n",
    "#use the NaiveBayesClassifier class to build the model\n",
    "from nltk import classify\n",
    "from nltk import NaiveBayesClassifier\n",
    "classifier = NaiveBayesClassifier.train(train_data)\n",
    "print(\"Accuracy is:\", classify.accuracy(classifier, test_data))\n",
    "print(classifier.show_most_informative_features(10))"
   ]
  },
  {
   "cell_type": "code",
   "execution_count": 1,
   "id": "1245640a-fc64-4800-91c4-6753c2faabb8",
   "metadata": {},
   "outputs": [
    {
     "ename": "NameError",
     "evalue": "name 'remove_noise' is not defined",
     "output_type": "error",
     "traceback": [
      "\u001b[1;31m---------------------------------------------------------------------------\u001b[0m",
      "\u001b[1;31mNameError\u001b[0m                                 Traceback (most recent call last)",
      "Cell \u001b[1;32mIn[1], line 5\u001b[0m\n\u001b[0;32m      2\u001b[0m \u001b[38;5;66;03m#custom_tweet = \"I ordered just once from TerribleCo, they screwed up, never used the app again.\"\u001b[39;00m\n\u001b[0;32m      3\u001b[0m \u001b[38;5;66;03m#custom_tweet = 'Congrats #SportStar on your 7th best goal from last season winning goal of the year :) #Baller #Topbin #oneofmanyworldies'\u001b[39;00m\n\u001b[0;32m      4\u001b[0m custom_tweet \u001b[38;5;241m=\u001b[39m \u001b[38;5;124m'\u001b[39m\u001b[38;5;124mThe plane ride was not very smooth\u001b[39m\u001b[38;5;124m'\u001b[39m\n\u001b[1;32m----> 5\u001b[0m custom_tokens \u001b[38;5;241m=\u001b[39m remove_noise(word_tokenize(custom_tweet))\n\u001b[0;32m      6\u001b[0m \u001b[38;5;28mprint\u001b[39m(classifier\u001b[38;5;241m.\u001b[39mclassify(\u001b[38;5;28mdict\u001b[39m([token, \u001b[38;5;28;01mTrue\u001b[39;00m] \u001b[38;5;28;01mfor\u001b[39;00m token \u001b[38;5;129;01min\u001b[39;00m custom_tokens)))\n",
      "\u001b[1;31mNameError\u001b[0m: name 'remove_noise' is not defined"
     ]
    }
   ],
   "source": [
    "from nltk.tokenize import word_tokenize\n",
    "#custom_tweet = \"I ordered just once from TerribleCo, they screwed up, never used the app again.\"\n",
    "#custom_tweet = 'Congrats #SportStar on your 7th best goal from last season winning goal of the year :) #Baller #Topbin #oneofmanyworldies'\n",
    "custom_tweet = 'The plane ride was not very smooth'\n",
    "custom_tokens = remove_noise(word_tokenize(custom_tweet))\n",
    "print(classifier.classify(dict([token, True] for token in custom_tokens)))"
   ]
  },
  {
   "cell_type": "code",
   "execution_count": null,
   "id": "e3c726b8-9432-451d-8cea-2396d38dee03",
   "metadata": {},
   "outputs": [],
   "source": []
  }
 ],
 "metadata": {
  "kernelspec": {
   "display_name": "Python 3 (ipykernel)",
   "language": "python",
   "name": "python3"
  },
  "language_info": {
   "codemirror_mode": {
    "name": "ipython",
    "version": 3
   },
   "file_extension": ".py",
   "mimetype": "text/x-python",
   "name": "python",
   "nbconvert_exporter": "python",
   "pygments_lexer": "ipython3",
   "version": "3.11.7"
  }
 },
 "nbformat": 4,
 "nbformat_minor": 5
}
