{
 "cells": [
  {
   "cell_type": "raw",
   "id": "69db6af1-3037-412a-9f08-c0c98505930b",
   "metadata": {},
   "source": [
    "Text summarization using pre-trained NLP models: BERT, GPT2 and XLNET"
   ]
  },
  {
   "cell_type": "raw",
   "id": "628166bf-bafd-4086-9122-8b994eaa96da",
   "metadata": {},
   "source": [
    "Text Summarization with BERT\n",
    "BERT is a pre-trained transformer based model that is naturally bidirectional. This pre-\n",
    "trained model can be tuned to easily perform the NLP tasks as specified e.g. Summarization\n",
    "in our case"
   ]
  },
  {
   "cell_type": "code",
   "execution_count": 1,
   "id": "f14a470f-eceb-42c3-a1dd-ebc9c5d8ce46",
   "metadata": {},
   "outputs": [
    {
     "name": "stdout",
     "output_type": "stream",
     "text": [
      "Requirement already satisfied: transformers in c:\\users\\user\\anaconda3\\lib\\site-packages (4.40.2)\n",
      "Requirement already satisfied: filelock in c:\\users\\user\\anaconda3\\lib\\site-packages (from transformers) (3.13.1)\n",
      "Requirement already satisfied: huggingface-hub<1.0,>=0.19.3 in c:\\users\\user\\anaconda3\\lib\\site-packages (from transformers) (0.23.0)\n",
      "Requirement already satisfied: numpy>=1.17 in c:\\users\\user\\anaconda3\\lib\\site-packages (from transformers) (1.26.4)\n",
      "Requirement already satisfied: packaging>=20.0 in c:\\users\\user\\anaconda3\\lib\\site-packages (from transformers) (23.1)\n",
      "Requirement already satisfied: pyyaml>=5.1 in c:\\users\\user\\anaconda3\\lib\\site-packages (from transformers) (6.0.1)\n",
      "Requirement already satisfied: regex!=2019.12.17 in c:\\users\\user\\anaconda3\\lib\\site-packages (from transformers) (2023.10.3)\n",
      "Requirement already satisfied: requests in c:\\users\\user\\anaconda3\\lib\\site-packages (from transformers) (2.31.0)\n",
      "Requirement already satisfied: tokenizers<0.20,>=0.19 in c:\\users\\user\\anaconda3\\lib\\site-packages (from transformers) (0.19.1)\n",
      "Requirement already satisfied: safetensors>=0.4.1 in c:\\users\\user\\anaconda3\\lib\\site-packages (from transformers) (0.4.3)\n",
      "Requirement already satisfied: tqdm>=4.27 in c:\\users\\user\\anaconda3\\lib\\site-packages (from transformers) (4.65.0)\n",
      "Requirement already satisfied: fsspec>=2023.5.0 in c:\\users\\user\\anaconda3\\lib\\site-packages (from huggingface-hub<1.0,>=0.19.3->transformers) (2023.10.0)\n",
      "Requirement already satisfied: typing-extensions>=3.7.4.3 in c:\\users\\user\\anaconda3\\lib\\site-packages (from huggingface-hub<1.0,>=0.19.3->transformers) (4.9.0)\n",
      "Requirement already satisfied: colorama in c:\\users\\user\\anaconda3\\lib\\site-packages (from tqdm>=4.27->transformers) (0.4.6)\n",
      "Requirement already satisfied: charset-normalizer<4,>=2 in c:\\users\\user\\anaconda3\\lib\\site-packages (from requests->transformers) (2.0.4)\n",
      "Requirement already satisfied: idna<4,>=2.5 in c:\\users\\user\\anaconda3\\lib\\site-packages (from requests->transformers) (3.4)\n",
      "Requirement already satisfied: urllib3<3,>=1.21.1 in c:\\users\\user\\anaconda3\\lib\\site-packages (from requests->transformers) (2.0.7)\n",
      "Requirement already satisfied: certifi>=2017.4.17 in c:\\users\\user\\anaconda3\\lib\\site-packages (from requests->transformers) (2024.2.2)\n",
      "Requirement already satisfied: bert-extractive-summarizer in c:\\users\\user\\anaconda3\\lib\\site-packages (0.10.1)\n",
      "Requirement already satisfied: transformers in c:\\users\\user\\anaconda3\\lib\\site-packages (from bert-extractive-summarizer) (4.40.2)\n",
      "Requirement already satisfied: scikit-learn in c:\\users\\user\\anaconda3\\lib\\site-packages (from bert-extractive-summarizer) (1.5.0)\n",
      "Requirement already satisfied: spacy in c:\\users\\user\\anaconda3\\lib\\site-packages (from bert-extractive-summarizer) (3.7.4)\n",
      "Requirement already satisfied: numpy>=1.19.5 in c:\\users\\user\\anaconda3\\lib\\site-packages (from scikit-learn->bert-extractive-summarizer) (1.26.4)\n",
      "Requirement already satisfied: scipy>=1.6.0 in c:\\users\\user\\anaconda3\\lib\\site-packages (from scikit-learn->bert-extractive-summarizer) (1.13.1)\n",
      "Requirement already satisfied: joblib>=1.2.0 in c:\\users\\user\\anaconda3\\lib\\site-packages (from scikit-learn->bert-extractive-summarizer) (1.2.0)\n",
      "Requirement already satisfied: threadpoolctl>=3.1.0 in c:\\users\\user\\anaconda3\\lib\\site-packages (from scikit-learn->bert-extractive-summarizer) (3.5.0)\n",
      "Requirement already satisfied: spacy-legacy<3.1.0,>=3.0.11 in c:\\users\\user\\anaconda3\\lib\\site-packages (from spacy->bert-extractive-summarizer) (3.0.12)\n",
      "Requirement already satisfied: spacy-loggers<2.0.0,>=1.0.0 in c:\\users\\user\\anaconda3\\lib\\site-packages (from spacy->bert-extractive-summarizer) (1.0.5)\n",
      "Requirement already satisfied: murmurhash<1.1.0,>=0.28.0 in c:\\users\\user\\anaconda3\\lib\\site-packages (from spacy->bert-extractive-summarizer) (1.0.10)\n",
      "Requirement already satisfied: cymem<2.1.0,>=2.0.2 in c:\\users\\user\\anaconda3\\lib\\site-packages (from spacy->bert-extractive-summarizer) (2.0.8)\n",
      "Requirement already satisfied: preshed<3.1.0,>=3.0.2 in c:\\users\\user\\anaconda3\\lib\\site-packages (from spacy->bert-extractive-summarizer) (3.0.9)\n",
      "Requirement already satisfied: thinc<8.3.0,>=8.2.2 in c:\\users\\user\\anaconda3\\lib\\site-packages (from spacy->bert-extractive-summarizer) (8.2.3)\n",
      "Requirement already satisfied: wasabi<1.2.0,>=0.9.1 in c:\\users\\user\\anaconda3\\lib\\site-packages (from spacy->bert-extractive-summarizer) (1.1.2)\n",
      "Requirement already satisfied: srsly<3.0.0,>=2.4.3 in c:\\users\\user\\anaconda3\\lib\\site-packages (from spacy->bert-extractive-summarizer) (2.4.8)\n",
      "Requirement already satisfied: catalogue<2.1.0,>=2.0.6 in c:\\users\\user\\anaconda3\\lib\\site-packages (from spacy->bert-extractive-summarizer) (2.0.10)\n",
      "Requirement already satisfied: weasel<0.4.0,>=0.1.0 in c:\\users\\user\\anaconda3\\lib\\site-packages (from spacy->bert-extractive-summarizer) (0.3.4)\n",
      "Requirement already satisfied: typer<0.10.0,>=0.3.0 in c:\\users\\user\\anaconda3\\lib\\site-packages (from spacy->bert-extractive-summarizer) (0.9.4)\n",
      "Requirement already satisfied: smart-open<7.0.0,>=5.2.1 in c:\\users\\user\\anaconda3\\lib\\site-packages (from spacy->bert-extractive-summarizer) (5.2.1)\n",
      "Requirement already satisfied: tqdm<5.0.0,>=4.38.0 in c:\\users\\user\\anaconda3\\lib\\site-packages (from spacy->bert-extractive-summarizer) (4.65.0)\n",
      "Requirement already satisfied: requests<3.0.0,>=2.13.0 in c:\\users\\user\\anaconda3\\lib\\site-packages (from spacy->bert-extractive-summarizer) (2.31.0)\n",
      "Requirement already satisfied: pydantic!=1.8,!=1.8.1,<3.0.0,>=1.7.4 in c:\\users\\user\\anaconda3\\lib\\site-packages (from spacy->bert-extractive-summarizer) (1.10.12)\n",
      "Requirement already satisfied: jinja2 in c:\\users\\user\\anaconda3\\lib\\site-packages (from spacy->bert-extractive-summarizer) (3.1.3)\n",
      "Requirement already satisfied: setuptools in c:\\users\\user\\anaconda3\\lib\\site-packages (from spacy->bert-extractive-summarizer) (68.2.2)\n",
      "Requirement already satisfied: packaging>=20.0 in c:\\users\\user\\anaconda3\\lib\\site-packages (from spacy->bert-extractive-summarizer) (23.1)\n",
      "Requirement already satisfied: langcodes<4.0.0,>=3.2.0 in c:\\users\\user\\anaconda3\\lib\\site-packages (from spacy->bert-extractive-summarizer) (3.4.0)\n",
      "Requirement already satisfied: filelock in c:\\users\\user\\anaconda3\\lib\\site-packages (from transformers->bert-extractive-summarizer) (3.13.1)\n",
      "Requirement already satisfied: huggingface-hub<1.0,>=0.19.3 in c:\\users\\user\\anaconda3\\lib\\site-packages (from transformers->bert-extractive-summarizer) (0.23.0)\n",
      "Requirement already satisfied: pyyaml>=5.1 in c:\\users\\user\\anaconda3\\lib\\site-packages (from transformers->bert-extractive-summarizer) (6.0.1)\n",
      "Requirement already satisfied: regex!=2019.12.17 in c:\\users\\user\\anaconda3\\lib\\site-packages (from transformers->bert-extractive-summarizer) (2023.10.3)\n",
      "Requirement already satisfied: tokenizers<0.20,>=0.19 in c:\\users\\user\\anaconda3\\lib\\site-packages (from transformers->bert-extractive-summarizer) (0.19.1)\n",
      "Requirement already satisfied: safetensors>=0.4.1 in c:\\users\\user\\anaconda3\\lib\\site-packages (from transformers->bert-extractive-summarizer) (0.4.3)\n",
      "Requirement already satisfied: fsspec>=2023.5.0 in c:\\users\\user\\anaconda3\\lib\\site-packages (from huggingface-hub<1.0,>=0.19.3->transformers->bert-extractive-summarizer) (2023.10.0)\n",
      "Requirement already satisfied: typing-extensions>=3.7.4.3 in c:\\users\\user\\anaconda3\\lib\\site-packages (from huggingface-hub<1.0,>=0.19.3->transformers->bert-extractive-summarizer) (4.9.0)\n",
      "Requirement already satisfied: language-data>=1.2 in c:\\users\\user\\anaconda3\\lib\\site-packages (from langcodes<4.0.0,>=3.2.0->spacy->bert-extractive-summarizer) (1.2.0)\n",
      "Requirement already satisfied: charset-normalizer<4,>=2 in c:\\users\\user\\anaconda3\\lib\\site-packages (from requests<3.0.0,>=2.13.0->spacy->bert-extractive-summarizer) (2.0.4)\n",
      "Requirement already satisfied: idna<4,>=2.5 in c:\\users\\user\\anaconda3\\lib\\site-packages (from requests<3.0.0,>=2.13.0->spacy->bert-extractive-summarizer) (3.4)\n",
      "Requirement already satisfied: urllib3<3,>=1.21.1 in c:\\users\\user\\anaconda3\\lib\\site-packages (from requests<3.0.0,>=2.13.0->spacy->bert-extractive-summarizer) (2.0.7)\n",
      "Requirement already satisfied: certifi>=2017.4.17 in c:\\users\\user\\anaconda3\\lib\\site-packages (from requests<3.0.0,>=2.13.0->spacy->bert-extractive-summarizer) (2024.2.2)\n",
      "Requirement already satisfied: blis<0.8.0,>=0.7.8 in c:\\users\\user\\anaconda3\\lib\\site-packages (from thinc<8.3.0,>=8.2.2->spacy->bert-extractive-summarizer) (0.7.11)\n",
      "Requirement already satisfied: confection<1.0.0,>=0.0.1 in c:\\users\\user\\anaconda3\\lib\\site-packages (from thinc<8.3.0,>=8.2.2->spacy->bert-extractive-summarizer) (0.1.4)\n",
      "Requirement already satisfied: colorama in c:\\users\\user\\anaconda3\\lib\\site-packages (from tqdm<5.0.0,>=4.38.0->spacy->bert-extractive-summarizer) (0.4.6)\n",
      "Requirement already satisfied: click<9.0.0,>=7.1.1 in c:\\users\\user\\anaconda3\\lib\\site-packages (from typer<0.10.0,>=0.3.0->spacy->bert-extractive-summarizer) (8.1.7)\n",
      "Requirement already satisfied: cloudpathlib<0.17.0,>=0.7.0 in c:\\users\\user\\anaconda3\\lib\\site-packages (from weasel<0.4.0,>=0.1.0->spacy->bert-extractive-summarizer) (0.16.0)\n",
      "Requirement already satisfied: MarkupSafe>=2.0 in c:\\users\\user\\anaconda3\\lib\\site-packages (from jinja2->spacy->bert-extractive-summarizer) (2.1.3)\n",
      "Requirement already satisfied: marisa-trie>=0.7.7 in c:\\users\\user\\anaconda3\\lib\\site-packages (from language-data>=1.2->langcodes<4.0.0,>=3.2.0->spacy->bert-extractive-summarizer) (1.1.1)\n"
     ]
    }
   ],
   "source": [
    "#Install Transformers and Bert for summarization:\n",
    "!pip install transformers\n",
    "!pip install bert-extractive-summarizer"
   ]
  },
  {
   "cell_type": "code",
   "execution_count": 2,
   "id": "8e6a12b2-9a22-4739-af94-a9291abcfe52",
   "metadata": {},
   "outputs": [
    {
     "name": "stdout",
     "output_type": "stream",
     "text": [
      "Requirement already satisfied: spacy in c:\\users\\user\\anaconda3\\lib\\site-packages (3.7.4)\n",
      "Requirement already satisfied: spacy-legacy<3.1.0,>=3.0.11 in c:\\users\\user\\anaconda3\\lib\\site-packages (from spacy) (3.0.12)\n",
      "Requirement already satisfied: spacy-loggers<2.0.0,>=1.0.0 in c:\\users\\user\\anaconda3\\lib\\site-packages (from spacy) (1.0.5)\n",
      "Requirement already satisfied: murmurhash<1.1.0,>=0.28.0 in c:\\users\\user\\anaconda3\\lib\\site-packages (from spacy) (1.0.10)\n",
      "Requirement already satisfied: cymem<2.1.0,>=2.0.2 in c:\\users\\user\\anaconda3\\lib\\site-packages (from spacy) (2.0.8)\n",
      "Requirement already satisfied: preshed<3.1.0,>=3.0.2 in c:\\users\\user\\anaconda3\\lib\\site-packages (from spacy) (3.0.9)\n",
      "Requirement already satisfied: thinc<8.3.0,>=8.2.2 in c:\\users\\user\\anaconda3\\lib\\site-packages (from spacy) (8.2.3)\n",
      "Requirement already satisfied: wasabi<1.2.0,>=0.9.1 in c:\\users\\user\\anaconda3\\lib\\site-packages (from spacy) (1.1.2)\n",
      "Requirement already satisfied: srsly<3.0.0,>=2.4.3 in c:\\users\\user\\anaconda3\\lib\\site-packages (from spacy) (2.4.8)\n",
      "Requirement already satisfied: catalogue<2.1.0,>=2.0.6 in c:\\users\\user\\anaconda3\\lib\\site-packages (from spacy) (2.0.10)\n",
      "Requirement already satisfied: weasel<0.4.0,>=0.1.0 in c:\\users\\user\\anaconda3\\lib\\site-packages (from spacy) (0.3.4)\n",
      "Requirement already satisfied: typer<0.10.0,>=0.3.0 in c:\\users\\user\\anaconda3\\lib\\site-packages (from spacy) (0.9.4)\n",
      "Requirement already satisfied: smart-open<7.0.0,>=5.2.1 in c:\\users\\user\\anaconda3\\lib\\site-packages (from spacy) (5.2.1)\n",
      "Requirement already satisfied: tqdm<5.0.0,>=4.38.0 in c:\\users\\user\\anaconda3\\lib\\site-packages (from spacy) (4.65.0)\n",
      "Requirement already satisfied: requests<3.0.0,>=2.13.0 in c:\\users\\user\\anaconda3\\lib\\site-packages (from spacy) (2.31.0)\n",
      "Requirement already satisfied: pydantic!=1.8,!=1.8.1,<3.0.0,>=1.7.4 in c:\\users\\user\\anaconda3\\lib\\site-packages (from spacy) (1.10.12)\n",
      "Requirement already satisfied: jinja2 in c:\\users\\user\\anaconda3\\lib\\site-packages (from spacy) (3.1.3)\n",
      "Requirement already satisfied: setuptools in c:\\users\\user\\anaconda3\\lib\\site-packages (from spacy) (68.2.2)\n",
      "Requirement already satisfied: packaging>=20.0 in c:\\users\\user\\anaconda3\\lib\\site-packages (from spacy) (23.1)\n",
      "Requirement already satisfied: langcodes<4.0.0,>=3.2.0 in c:\\users\\user\\anaconda3\\lib\\site-packages (from spacy) (3.4.0)\n",
      "Requirement already satisfied: numpy>=1.19.0 in c:\\users\\user\\anaconda3\\lib\\site-packages (from spacy) (1.26.4)\n",
      "Requirement already satisfied: language-data>=1.2 in c:\\users\\user\\anaconda3\\lib\\site-packages (from langcodes<4.0.0,>=3.2.0->spacy) (1.2.0)\n",
      "Requirement already satisfied: typing-extensions>=4.2.0 in c:\\users\\user\\anaconda3\\lib\\site-packages (from pydantic!=1.8,!=1.8.1,<3.0.0,>=1.7.4->spacy) (4.9.0)\n",
      "Requirement already satisfied: charset-normalizer<4,>=2 in c:\\users\\user\\anaconda3\\lib\\site-packages (from requests<3.0.0,>=2.13.0->spacy) (2.0.4)\n",
      "Requirement already satisfied: idna<4,>=2.5 in c:\\users\\user\\anaconda3\\lib\\site-packages (from requests<3.0.0,>=2.13.0->spacy) (3.4)\n",
      "Requirement already satisfied: urllib3<3,>=1.21.1 in c:\\users\\user\\anaconda3\\lib\\site-packages (from requests<3.0.0,>=2.13.0->spacy) (2.0.7)\n",
      "Requirement already satisfied: certifi>=2017.4.17 in c:\\users\\user\\anaconda3\\lib\\site-packages (from requests<3.0.0,>=2.13.0->spacy) (2024.2.2)\n",
      "Requirement already satisfied: blis<0.8.0,>=0.7.8 in c:\\users\\user\\anaconda3\\lib\\site-packages (from thinc<8.3.0,>=8.2.2->spacy) (0.7.11)\n",
      "Requirement already satisfied: confection<1.0.0,>=0.0.1 in c:\\users\\user\\anaconda3\\lib\\site-packages (from thinc<8.3.0,>=8.2.2->spacy) (0.1.4)\n",
      "Requirement already satisfied: colorama in c:\\users\\user\\anaconda3\\lib\\site-packages (from tqdm<5.0.0,>=4.38.0->spacy) (0.4.6)\n",
      "Requirement already satisfied: click<9.0.0,>=7.1.1 in c:\\users\\user\\anaconda3\\lib\\site-packages (from typer<0.10.0,>=0.3.0->spacy) (8.1.7)\n",
      "Requirement already satisfied: cloudpathlib<0.17.0,>=0.7.0 in c:\\users\\user\\anaconda3\\lib\\site-packages (from weasel<0.4.0,>=0.1.0->spacy) (0.16.0)\n",
      "Requirement already satisfied: MarkupSafe>=2.0 in c:\\users\\user\\anaconda3\\lib\\site-packages (from jinja2->spacy) (2.1.3)\n",
      "Requirement already satisfied: marisa-trie>=0.7.7 in c:\\users\\user\\anaconda3\\lib\\site-packages (from language-data>=1.2->langcodes<4.0.0,>=3.2.0->spacy) (1.1.1)\n"
     ]
    }
   ],
   "source": [
    "#install spaCy (spaCy is an open-source software library for advanced natural language processing, written in the programming languages Python and Cython.)\n",
    "!pip install spacy"
   ]
  },
  {
   "cell_type": "code",
   "execution_count": 3,
   "id": "d0812590-8db4-47da-b6a9-3814cc43c099",
   "metadata": {},
   "outputs": [
    {
     "name": "stdout",
     "output_type": "stream",
     "text": [
      "Requirement already satisfied: torch in c:\\users\\user\\anaconda3\\lib\\site-packages (2.3.0)\n",
      "Requirement already satisfied: filelock in c:\\users\\user\\anaconda3\\lib\\site-packages (from torch) (3.13.1)\n",
      "Requirement already satisfied: typing-extensions>=4.8.0 in c:\\users\\user\\anaconda3\\lib\\site-packages (from torch) (4.9.0)\n",
      "Requirement already satisfied: sympy in c:\\users\\user\\anaconda3\\lib\\site-packages (from torch) (1.12)\n",
      "Requirement already satisfied: networkx in c:\\users\\user\\anaconda3\\lib\\site-packages (from torch) (3.1)\n",
      "Requirement already satisfied: jinja2 in c:\\users\\user\\anaconda3\\lib\\site-packages (from torch) (3.1.3)\n",
      "Requirement already satisfied: fsspec in c:\\users\\user\\anaconda3\\lib\\site-packages (from torch) (2023.10.0)\n",
      "Requirement already satisfied: mkl<=2021.4.0,>=2021.1.1 in c:\\users\\user\\anaconda3\\lib\\site-packages (from torch) (2021.4.0)\n",
      "Requirement already satisfied: intel-openmp==2021.* in c:\\users\\user\\anaconda3\\lib\\site-packages (from mkl<=2021.4.0,>=2021.1.1->torch) (2021.4.0)\n",
      "Requirement already satisfied: tbb==2021.* in c:\\users\\user\\anaconda3\\lib\\site-packages (from mkl<=2021.4.0,>=2021.1.1->torch) (2021.12.0)\n",
      "Requirement already satisfied: MarkupSafe>=2.0 in c:\\users\\user\\anaconda3\\lib\\site-packages (from jinja2->torch) (2.1.3)\n",
      "Requirement already satisfied: mpmath>=0.19 in c:\\users\\user\\anaconda3\\lib\\site-packages (from sympy->torch) (1.3.0)\n"
     ]
    }
   ],
   "source": [
    "'''Torch is an open-source machine\n",
    "learning library and a scientific computing framework. It provides interfaces to deep learning\n",
    "algorithms implemented in C. Torch development moved in 2017 to PyTorch, a port of the\n",
    "library to Python'''\n",
    "\n",
    "!pip install torch"
   ]
  },
  {
   "cell_type": "code",
   "execution_count": 4,
   "id": "89d3944d-1b95-4cf9-804d-12806202d8af",
   "metadata": {},
   "outputs": [],
   "source": [
    "from summarizer import Summarizer,TransformerSummarizer"
   ]
  },
  {
   "cell_type": "raw",
   "id": "559ba392-fed0-43ae-9581-170f12aa14fa",
   "metadata": {},
   "source": [
    "MY OWN TEXT"
   ]
  },
  {
   "cell_type": "code",
   "execution_count": 20,
   "id": "936885e5-ad15-44a8-a1e1-b9e477bd1932",
   "metadata": {},
   "outputs": [],
   "source": [
    "text = '''\n",
    "Climate change refers to long-term changes in temperature, precipitation, wind patterns, and other elements of the Earth's climate system. \n",
    "The current climate change trend, often referred to as global warming, is of particular concern due to its association with human activities. \n",
    "Since the late 19th century, the planet's average surface temperature has risen by about 1.2 degrees Celsius (2.2 degrees Fahrenheit), \n",
    "with most of the warming occurring in the past 40 years. This increase is largely driven by the release of greenhouse gases, such as carbon \n",
    "dioxide and methane, from the burning of fossil fuels, deforestation, and industrial processes. The impacts of climate change are wide-ranging \n",
    "and significant. They include more frequent and severe weather events, such as hurricanes, heatwaves, and floods; changes in precipitation patterns \n",
    "leading to droughts in some regions and heavy rainfall in others; rising sea levels due to the melting of polar ice and glaciers; and disruptions \n",
    "to ecosystems and biodiversity. These changes pose risks to human health, food security, water supply, and economic stability. Efforts to address \n",
    "climate change involve mitigation and adaptation strategies. Mitigation focuses on reducing the emission of greenhouse gases and enhancing carbon \n",
    "sinks, such as forests, to slow down global warming. This can be achieved through transitioning to renewable energy sources, improving energy \n",
    "efficiency, and adopting sustainable land-use practices. Adaptation, on the other hand, involves making adjustments to social, economic, and \n",
    "environmental practices to minimize the damage caused by climate change. This includes building resilient infrastructure, developing early \n",
    "warning systems, and implementing policies to protect vulnerable communities. International cooperation is crucial in combating climate change, \n",
    "as it is a global issue that transcends national borders. Agreements such as the Paris Agreement, adopted in 2015, aim to unite countries in their \n",
    "efforts to limit global temperature rise to well below 2 degrees Celsius above pre-industrial levels and to pursue efforts to limit the increase \n",
    "to 1.5 degrees Celsius. Achieving these goals requires ambitious actions and commitments from governments, businesses, and individuals worldwide.\n",
    "\"\"\"\n",
    "'''"
   ]
  },
  {
   "cell_type": "code",
   "execution_count": 21,
   "id": "34138e64-e1a6-4fc8-8259-0da2423d0cf1",
   "metadata": {},
   "outputs": [
    {
     "name": "stdout",
     "output_type": "stream",
     "text": [
      "Requirement already satisfied: transformers in c:\\users\\user\\anaconda3\\lib\\site-packages (4.40.2)\n",
      "Requirement already satisfied: bert-extractive-summarizer in c:\\users\\user\\anaconda3\\lib\\site-packages (0.10.1)\n",
      "Requirement already satisfied: filelock in c:\\users\\user\\anaconda3\\lib\\site-packages (from transformers) (3.13.1)\n",
      "Requirement already satisfied: huggingface-hub<1.0,>=0.19.3 in c:\\users\\user\\anaconda3\\lib\\site-packages (from transformers) (0.23.0)\n",
      "Requirement already satisfied: numpy>=1.17 in c:\\users\\user\\anaconda3\\lib\\site-packages (from transformers) (1.26.4)\n",
      "Requirement already satisfied: packaging>=20.0 in c:\\users\\user\\anaconda3\\lib\\site-packages (from transformers) (23.1)\n",
      "Requirement already satisfied: pyyaml>=5.1 in c:\\users\\user\\anaconda3\\lib\\site-packages (from transformers) (6.0.1)\n",
      "Requirement already satisfied: regex!=2019.12.17 in c:\\users\\user\\anaconda3\\lib\\site-packages (from transformers) (2023.10.3)\n",
      "Requirement already satisfied: requests in c:\\users\\user\\anaconda3\\lib\\site-packages (from transformers) (2.31.0)\n",
      "Requirement already satisfied: tokenizers<0.20,>=0.19 in c:\\users\\user\\anaconda3\\lib\\site-packages (from transformers) (0.19.1)\n",
      "Requirement already satisfied: safetensors>=0.4.1 in c:\\users\\user\\anaconda3\\lib\\site-packages (from transformers) (0.4.3)\n",
      "Requirement already satisfied: tqdm>=4.27 in c:\\users\\user\\anaconda3\\lib\\site-packages (from transformers) (4.65.0)\n",
      "Requirement already satisfied: scikit-learn in c:\\users\\user\\anaconda3\\lib\\site-packages (from bert-extractive-summarizer) (1.5.0)\n",
      "Requirement already satisfied: spacy in c:\\users\\user\\anaconda3\\lib\\site-packages (from bert-extractive-summarizer) (3.7.4)\n",
      "Requirement already satisfied: fsspec>=2023.5.0 in c:\\users\\user\\anaconda3\\lib\\site-packages (from huggingface-hub<1.0,>=0.19.3->transformers) (2023.10.0)\n",
      "Requirement already satisfied: typing-extensions>=3.7.4.3 in c:\\users\\user\\anaconda3\\lib\\site-packages (from huggingface-hub<1.0,>=0.19.3->transformers) (4.9.0)\n",
      "Requirement already satisfied: colorama in c:\\users\\user\\anaconda3\\lib\\site-packages (from tqdm>=4.27->transformers) (0.4.6)\n",
      "Requirement already satisfied: charset-normalizer<4,>=2 in c:\\users\\user\\anaconda3\\lib\\site-packages (from requests->transformers) (2.0.4)\n",
      "Requirement already satisfied: idna<4,>=2.5 in c:\\users\\user\\anaconda3\\lib\\site-packages (from requests->transformers) (3.4)\n",
      "Requirement already satisfied: urllib3<3,>=1.21.1 in c:\\users\\user\\anaconda3\\lib\\site-packages (from requests->transformers) (2.0.7)\n",
      "Requirement already satisfied: certifi>=2017.4.17 in c:\\users\\user\\anaconda3\\lib\\site-packages (from requests->transformers) (2024.2.2)\n",
      "Requirement already satisfied: scipy>=1.6.0 in c:\\users\\user\\anaconda3\\lib\\site-packages (from scikit-learn->bert-extractive-summarizer) (1.13.1)\n",
      "Requirement already satisfied: joblib>=1.2.0 in c:\\users\\user\\anaconda3\\lib\\site-packages (from scikit-learn->bert-extractive-summarizer) (1.2.0)\n",
      "Requirement already satisfied: threadpoolctl>=3.1.0 in c:\\users\\user\\anaconda3\\lib\\site-packages (from scikit-learn->bert-extractive-summarizer) (3.5.0)\n",
      "Requirement already satisfied: spacy-legacy<3.1.0,>=3.0.11 in c:\\users\\user\\anaconda3\\lib\\site-packages (from spacy->bert-extractive-summarizer) (3.0.12)\n",
      "Requirement already satisfied: spacy-loggers<2.0.0,>=1.0.0 in c:\\users\\user\\anaconda3\\lib\\site-packages (from spacy->bert-extractive-summarizer) (1.0.5)\n",
      "Requirement already satisfied: murmurhash<1.1.0,>=0.28.0 in c:\\users\\user\\anaconda3\\lib\\site-packages (from spacy->bert-extractive-summarizer) (1.0.10)\n",
      "Requirement already satisfied: cymem<2.1.0,>=2.0.2 in c:\\users\\user\\anaconda3\\lib\\site-packages (from spacy->bert-extractive-summarizer) (2.0.8)\n",
      "Requirement already satisfied: preshed<3.1.0,>=3.0.2 in c:\\users\\user\\anaconda3\\lib\\site-packages (from spacy->bert-extractive-summarizer) (3.0.9)\n",
      "Requirement already satisfied: thinc<8.3.0,>=8.2.2 in c:\\users\\user\\anaconda3\\lib\\site-packages (from spacy->bert-extractive-summarizer) (8.2.3)\n",
      "Requirement already satisfied: wasabi<1.2.0,>=0.9.1 in c:\\users\\user\\anaconda3\\lib\\site-packages (from spacy->bert-extractive-summarizer) (1.1.2)\n",
      "Requirement already satisfied: srsly<3.0.0,>=2.4.3 in c:\\users\\user\\anaconda3\\lib\\site-packages (from spacy->bert-extractive-summarizer) (2.4.8)\n",
      "Requirement already satisfied: catalogue<2.1.0,>=2.0.6 in c:\\users\\user\\anaconda3\\lib\\site-packages (from spacy->bert-extractive-summarizer) (2.0.10)\n",
      "Requirement already satisfied: weasel<0.4.0,>=0.1.0 in c:\\users\\user\\anaconda3\\lib\\site-packages (from spacy->bert-extractive-summarizer) (0.3.4)\n",
      "Requirement already satisfied: typer<0.10.0,>=0.3.0 in c:\\users\\user\\anaconda3\\lib\\site-packages (from spacy->bert-extractive-summarizer) (0.9.4)\n",
      "Requirement already satisfied: smart-open<7.0.0,>=5.2.1 in c:\\users\\user\\anaconda3\\lib\\site-packages (from spacy->bert-extractive-summarizer) (5.2.1)\n",
      "Requirement already satisfied: pydantic!=1.8,!=1.8.1,<3.0.0,>=1.7.4 in c:\\users\\user\\anaconda3\\lib\\site-packages (from spacy->bert-extractive-summarizer) (1.10.12)\n",
      "Requirement already satisfied: jinja2 in c:\\users\\user\\anaconda3\\lib\\site-packages (from spacy->bert-extractive-summarizer) (3.1.3)\n",
      "Requirement already satisfied: setuptools in c:\\users\\user\\anaconda3\\lib\\site-packages (from spacy->bert-extractive-summarizer) (68.2.2)\n",
      "Requirement already satisfied: langcodes<4.0.0,>=3.2.0 in c:\\users\\user\\anaconda3\\lib\\site-packages (from spacy->bert-extractive-summarizer) (3.4.0)\n",
      "Requirement already satisfied: language-data>=1.2 in c:\\users\\user\\anaconda3\\lib\\site-packages (from langcodes<4.0.0,>=3.2.0->spacy->bert-extractive-summarizer) (1.2.0)\n",
      "Requirement already satisfied: blis<0.8.0,>=0.7.8 in c:\\users\\user\\anaconda3\\lib\\site-packages (from thinc<8.3.0,>=8.2.2->spacy->bert-extractive-summarizer) (0.7.11)\n",
      "Requirement already satisfied: confection<1.0.0,>=0.0.1 in c:\\users\\user\\anaconda3\\lib\\site-packages (from thinc<8.3.0,>=8.2.2->spacy->bert-extractive-summarizer) (0.1.4)\n",
      "Requirement already satisfied: click<9.0.0,>=7.1.1 in c:\\users\\user\\anaconda3\\lib\\site-packages (from typer<0.10.0,>=0.3.0->spacy->bert-extractive-summarizer) (8.1.7)\n",
      "Requirement already satisfied: cloudpathlib<0.17.0,>=0.7.0 in c:\\users\\user\\anaconda3\\lib\\site-packages (from weasel<0.4.0,>=0.1.0->spacy->bert-extractive-summarizer) (0.16.0)\n",
      "Requirement already satisfied: MarkupSafe>=2.0 in c:\\users\\user\\anaconda3\\lib\\site-packages (from jinja2->spacy->bert-extractive-summarizer) (2.1.3)\n",
      "Requirement already satisfied: marisa-trie>=0.7.7 in c:\\users\\user\\anaconda3\\lib\\site-packages (from language-data>=1.2->langcodes<4.0.0,>=3.2.0->spacy->bert-extractive-summarizer) (1.1.1)\n"
     ]
    }
   ],
   "source": [
    "!pip install transformers bert-extractive-summarizer"
   ]
  },
  {
   "cell_type": "code",
   "execution_count": 22,
   "id": "e32f5add-4017-4875-9cc3-e225b513da9d",
   "metadata": {},
   "outputs": [
    {
     "name": "stdout",
     "output_type": "stream",
     "text": [
      "Requirement already satisfied: numpy in c:\\users\\user\\anaconda3\\lib\\site-packages (1.26.4)\n",
      "Requirement already satisfied: scipy in c:\\users\\user\\anaconda3\\lib\\site-packages (1.13.1)\n",
      "Requirement already satisfied: scikit-learn in c:\\users\\user\\anaconda3\\lib\\site-packages (1.5.0)\n",
      "Requirement already satisfied: threadpoolctl in c:\\users\\user\\anaconda3\\lib\\site-packages (3.5.0)\n",
      "Requirement already satisfied: joblib>=1.2.0 in c:\\users\\user\\anaconda3\\lib\\site-packages (from scikit-learn) (1.2.0)\n"
     ]
    }
   ],
   "source": [
    "!pip install --upgrade numpy scipy scikit-learn threadpoolctl"
   ]
  },
  {
   "cell_type": "code",
   "execution_count": 23,
   "id": "0d513f46-e6f9-4b2f-af5d-cca892dc26ba",
   "metadata": {},
   "outputs": [
    {
     "name": "stderr",
     "output_type": "stream",
     "text": [
      "C:\\Users\\User\\anaconda3\\Lib\\site-packages\\huggingface_hub\\file_download.py:1132: FutureWarning: `resume_download` is deprecated and will be removed in version 1.0.0. Downloads always resume when possible. If you want to force a new download, use `force_download=True`.\n",
      "  warnings.warn(\n"
     ]
    },
    {
     "name": "stdout",
     "output_type": "stream",
     "text": [
      "Climate change refers to long-term changes in temperature, precipitation, wind patterns, and other elements of the Earth's climate system. Mitigation focuses on reducing the emission of greenhouse gases and enhancing carbon \n",
      "sinks, such as forests, to slow down global warming. Agreements such as the Paris Agreement, adopted in 2015, aim to unite countries in their \n",
      "efforts to limit global temperature rise to well below 2 degrees Celsius above pre-industrial levels and to pursue efforts to limit the increase \n",
      "to 1.5 degrees Celsius.\n"
     ]
    }
   ],
   "source": [
    "#Load the Bert Summarizer model and print the summary.\n",
    "from summarizer import Summarizer\n",
    "\n",
    "# Initialize the BERT summarizer\n",
    "bert_model = Summarizer()\n",
    "# Generate summary\n",
    "bert_summary = ''.join(bert_model(text, min_length=60))\n",
    "\n",
    "# Print the summary\n",
    "print(bert_summary)"
   ]
  },
  {
   "cell_type": "raw",
   "id": "1e6481af-3ff7-4ce4-8490-a303b7bc92a9",
   "metadata": {},
   "source": [
    "Text Summarization with GPT-2"
   ]
  },
  {
   "cell_type": "code",
   "execution_count": 24,
   "id": "80f830ca-8dcb-4b5d-b838-68015bb56a57",
   "metadata": {},
   "outputs": [
    {
     "name": "stderr",
     "output_type": "stream",
     "text": [
      "C:\\Users\\User\\anaconda3\\Lib\\site-packages\\huggingface_hub\\file_download.py:1132: FutureWarning: `resume_download` is deprecated and will be removed in version 1.0.0. Downloads always resume when possible. If you want to force a new download, use `force_download=True`.\n",
      "  warnings.warn(\n"
     ]
    }
   ],
   "source": [
    "#Load the GPT-2 model and get the generated summary. Here we are using TransformerSummarizer for the GPT2 model\n",
    "from summarizer import TransformerSummarizer\n",
    "GPT2_model = TransformerSummarizer(transformer_type=\"GPT2\",transformer_model_key=\"gpt2-medium\")\n",
    "GPT_summary = ''.join(GPT2_model(text, min_length=60))"
   ]
  },
  {
   "cell_type": "code",
   "execution_count": 25,
   "id": "11b62cd7-da03-4a4f-9381-1a305b441283",
   "metadata": {},
   "outputs": [
    {
     "data": {
      "text/plain": [
       "\"Climate change refers to long-term changes in temperature, precipitation, wind patterns, and other elements of the Earth's climate system. Efforts to address \\nclimate change involve mitigation and adaptation strategies. Mitigation focuses on reducing the emission of greenhouse gases and enhancing carbon \\nsinks, such as forests, to slow down global warming.\""
      ]
     },
     "execution_count": 25,
     "metadata": {},
     "output_type": "execute_result"
    }
   ],
   "source": [
    "GPT_summary"
   ]
  },
  {
   "cell_type": "raw",
   "id": "da1e92d7-99e4-4b21-8b1d-97df8d467d7a",
   "metadata": {},
   "source": [
    "Text Summarization with XLNet\n",
    "XLNet is particularly interesting for language generation because it is pre-trained in a\n",
    "regressive manner similar to the GPT family of models. Let us look at how XLNet summarizes\n",
    "our text"
   ]
  },
  {
   "cell_type": "code",
   "execution_count": 26,
   "id": "0ee76444-e97a-4738-a0a1-01a4a317c8f3",
   "metadata": {},
   "outputs": [
    {
     "name": "stdout",
     "output_type": "stream",
     "text": [
      "Requirement already satisfied: keras-xlnet in c:\\users\\user\\anaconda3\\lib\\site-packages (0.20.0)\n",
      "Requirement already satisfied: sentencepiece in c:\\users\\user\\anaconda3\\lib\\site-packages (from keras-xlnet) (0.2.0)\n",
      "Requirement already satisfied: keras-transformer==0.40.0 in c:\\users\\user\\anaconda3\\lib\\site-packages (from keras-xlnet) (0.40.0)\n",
      "Requirement already satisfied: keras-transformer-xl==0.14.0 in c:\\users\\user\\anaconda3\\lib\\site-packages (from keras-xlnet) (0.14.0)\n",
      "Requirement already satisfied: keras-trans-mask==0.6.0 in c:\\users\\user\\anaconda3\\lib\\site-packages (from keras-xlnet) (0.6.0)\n",
      "Requirement already satisfied: numpy in c:\\users\\user\\anaconda3\\lib\\site-packages (from keras-trans-mask==0.6.0->keras-xlnet) (1.26.4)\n",
      "Requirement already satisfied: Keras in c:\\users\\user\\anaconda3\\lib\\site-packages (from keras-trans-mask==0.6.0->keras-xlnet) (3.3.3)\n",
      "Requirement already satisfied: keras-pos-embd==0.13.0 in c:\\users\\user\\anaconda3\\lib\\site-packages (from keras-transformer==0.40.0->keras-xlnet) (0.13.0)\n",
      "Requirement already satisfied: keras-multi-head==0.29.0 in c:\\users\\user\\anaconda3\\lib\\site-packages (from keras-transformer==0.40.0->keras-xlnet) (0.29.0)\n",
      "Requirement already satisfied: keras-layer-normalization==0.16.0 in c:\\users\\user\\anaconda3\\lib\\site-packages (from keras-transformer==0.40.0->keras-xlnet) (0.16.0)\n",
      "Requirement already satisfied: keras-position-wise-feed-forward==0.8.0 in c:\\users\\user\\anaconda3\\lib\\site-packages (from keras-transformer==0.40.0->keras-xlnet) (0.8.0)\n",
      "Requirement already satisfied: keras-embed-sim==0.10.0 in c:\\users\\user\\anaconda3\\lib\\site-packages (from keras-transformer==0.40.0->keras-xlnet) (0.10.0)\n",
      "Requirement already satisfied: keras-adaptive-softmax==0.9.0 in c:\\users\\user\\anaconda3\\lib\\site-packages (from keras-transformer-xl==0.14.0->keras-xlnet) (0.9.0)\n",
      "Requirement already satisfied: keras-self-attention==0.51.0 in c:\\users\\user\\anaconda3\\lib\\site-packages (from keras-multi-head==0.29.0->keras-transformer==0.40.0->keras-xlnet) (0.51.0)\n",
      "Requirement already satisfied: absl-py in c:\\users\\user\\anaconda3\\lib\\site-packages (from Keras->keras-trans-mask==0.6.0->keras-xlnet) (2.1.0)\n",
      "Requirement already satisfied: rich in c:\\users\\user\\anaconda3\\lib\\site-packages (from Keras->keras-trans-mask==0.6.0->keras-xlnet) (13.3.5)\n",
      "Requirement already satisfied: namex in c:\\users\\user\\anaconda3\\lib\\site-packages (from Keras->keras-trans-mask==0.6.0->keras-xlnet) (0.0.8)\n",
      "Requirement already satisfied: h5py in c:\\users\\user\\anaconda3\\lib\\site-packages (from Keras->keras-trans-mask==0.6.0->keras-xlnet) (3.11.0)\n",
      "Requirement already satisfied: optree in c:\\users\\user\\anaconda3\\lib\\site-packages (from Keras->keras-trans-mask==0.6.0->keras-xlnet) (0.11.0)\n",
      "Requirement already satisfied: ml-dtypes in c:\\users\\user\\anaconda3\\lib\\site-packages (from Keras->keras-trans-mask==0.6.0->keras-xlnet) (0.3.2)\n",
      "Requirement already satisfied: typing-extensions>=4.0.0 in c:\\users\\user\\anaconda3\\lib\\site-packages (from optree->Keras->keras-trans-mask==0.6.0->keras-xlnet) (4.9.0)\n",
      "Requirement already satisfied: markdown-it-py<3.0.0,>=2.2.0 in c:\\users\\user\\anaconda3\\lib\\site-packages (from rich->Keras->keras-trans-mask==0.6.0->keras-xlnet) (2.2.0)\n",
      "Requirement already satisfied: pygments<3.0.0,>=2.13.0 in c:\\users\\user\\anaconda3\\lib\\site-packages (from rich->Keras->keras-trans-mask==0.6.0->keras-xlnet) (2.15.1)\n",
      "Requirement already satisfied: mdurl~=0.1 in c:\\users\\user\\anaconda3\\lib\\site-packages (from markdown-it-py<3.0.0,>=2.2.0->rich->Keras->keras-trans-mask==0.6.0->keras-xlnet) (0.1.0)\n",
      "Requirement already satisfied: sentencepiece in c:\\users\\user\\anaconda3\\lib\\site-packages (0.2.0)\n"
     ]
    }
   ],
   "source": [
    "!pip install keras-xlnet\n",
    "!pip install sentencepiece"
   ]
  },
  {
   "cell_type": "code",
   "execution_count": 27,
   "id": "6c7ea846-a776-48c1-bbc5-11b5df8e0c01",
   "metadata": {},
   "outputs": [
    {
     "name": "stderr",
     "output_type": "stream",
     "text": [
      "C:\\Users\\User\\anaconda3\\Lib\\site-packages\\huggingface_hub\\file_download.py:1132: FutureWarning: `resume_download` is deprecated and will be removed in version 1.0.0. Downloads always resume when possible. If you want to force a new download, use `force_download=True`.\n",
      "  warnings.warn(\n"
     ]
    }
   ],
   "source": [
    "model = TransformerSummarizer(transformer_type=\"XLNet\",transformer_model_key=\"xlnet-base-cased\")\n",
    "XLNET_summary = ''.join(model(text, min_length=60))"
   ]
  },
  {
   "cell_type": "code",
   "execution_count": 28,
   "id": "66ee5d50-e82a-425f-9845-c1a1b353f9a0",
   "metadata": {},
   "outputs": [
    {
     "data": {
      "text/plain": [
       "\"Climate change refers to long-term changes in temperature, precipitation, wind patterns, and other elements of the Earth's climate system. The current climate change trend, often referred to as global warming, is of particular concern due to its association with human activities. This can be achieved through transitioning to renewable energy sources, improving energy \\nefficiency, and adopting sustainable land-use practices.\""
      ]
     },
     "execution_count": 28,
     "metadata": {},
     "output_type": "execute_result"
    }
   ],
   "source": [
    "XLNET_summary"
   ]
  },
  {
   "cell_type": "raw",
   "id": "ab1d487d-e279-4ed8-afeb-72f4d35606f2",
   "metadata": {},
   "source": [
    "XLNet is better summary"
   ]
  },
  {
   "cell_type": "raw",
   "id": "d9c07996-fd04-4775-90df-561f301cf3c6",
   "metadata": {},
   "source": [
    "Part 2 – Calculating Rouge scores for text summaries"
   ]
  },
  {
   "cell_type": "code",
   "execution_count": 29,
   "id": "01f931db-1f09-429f-b671-9099401ca274",
   "metadata": {},
   "outputs": [
    {
     "name": "stdout",
     "output_type": "stream",
     "text": [
      "Requirement already satisfied: rouge in c:\\users\\user\\anaconda3\\lib\\site-packages (1.0.1)\n",
      "Requirement already satisfied: six in c:\\users\\user\\anaconda3\\lib\\site-packages (from rouge) (1.16.0)\n"
     ]
    }
   ],
   "source": [
    "!pip install rouge"
   ]
  },
  {
   "cell_type": "code",
   "execution_count": 30,
   "id": "40eb9f8f-4313-4021-b6b6-9ad0e1c381a7",
   "metadata": {},
   "outputs": [
    {
     "name": "stdout",
     "output_type": "stream",
     "text": [
      "[{'rouge-1': {'r': 0.6153846153846154, 'p': 0.6666666666666666, 'f': 0.6399999950080001}, 'rouge-2': {'r': 0.5, 'p': 0.5454545454545454, 'f': 0.5217391254442345}, 'rouge-l': {'r': 0.6153846153846154, 'p': 0.6666666666666666, 'f': 0.6399999950080001}}]\n"
     ]
    }
   ],
   "source": [
    "import torch\n",
    "from rouge import Rouge\n",
    "# Define the generated summary and the reference summary\n",
    "generated_summary = \"Text summarization with Transformers is efficient for producing precise and relevant summaries.\"\n",
    "reference_summary = \"Text summarization with Transformers can be used to produce precise and relevant summaries.\"\n",
    "# Initialize the ROUGE object\n",
    "rouge = Rouge()\n",
    "# Calculate ROUGE for the generated and reference summaries\n",
    "scores = rouge.get_scores(generated_summary, reference_summary)\n",
    "# Print the results\n",
    "print(scores)"
   ]
  },
  {
   "cell_type": "code",
   "execution_count": 31,
   "id": "6f4d60ed-8b56-4335-8696-49594999fd56",
   "metadata": {},
   "outputs": [
    {
     "name": "stdout",
     "output_type": "stream",
     "text": [
      "[{'rouge-1': {'r': 0.5616438356164384, 'p': 0.5694444444444444, 'f': 0.5655172363795482}, 'rouge-2': {'r': 0.4090909090909091, 'p': 0.4891304347826087, 'f': 0.44554454949514755}, 'rouge-l': {'r': 0.5616438356164384, 'p': 0.5694444444444444, 'f': 0.5655172363795482}}]\n"
     ]
    }
   ],
   "source": [
    "# Define the generated summary (BERT summary) and the reference summary\n",
    "generated_summary = '''\n",
    "Scientists say they have discovered a new species of orangutans on\n",
    "Indonesia’s island of Sumatra.\n",
    "They say the animals are considered a new species because of genetic,\n",
    "skeletal and tooth differences.\n",
    "Orangutan – which means person of the forest in the Indonesian and\n",
    "Malay languages - is the world’s biggest tree-living mammal.\n",
    "Their low numbers make the group the most endangered of all the great\n",
    "ape species.\n",
    "He said it puts responsibility on the Indonesian government to help the\n",
    "species survive.\n",
    "It also recommended that remaining forest in the Sumatran area where\n",
    "the orangutans live be protected.\n",
    "'''\n",
    "reference_summary = '''\n",
    "Scientists say they have discovered a new species of orangutans on\n",
    "Indonesia’s island of Sumatra.\n",
    "They say the animals are considered a new species because of genetic,\n",
    "skeletal and tooth differences.\n",
    "Research into the new species began in 2013, when an orangutan\n",
    "protection group in Sumatra found an injured orangutan in an area far\n",
    "away from the other species.\n",
    "The Tapanuli orangutans also have a different diet and are found only\n",
    "in higher forest areas.\n",
    "In addition, the writers of the study are recommending that plans for a\n",
    "hydropower center in the area be stopped by the government.\n",
    "It also recommended that remaining forest in the Sumatran area where\n",
    "the orangutans live be protected.\n",
    "'''\n",
    "# Initialize the ROUGE object\n",
    "rouge = Rouge()\n",
    "# Calculate ROUGE for the generated and reference summaries\n",
    "scores = rouge.get_scores(generated_summary, reference_summary)\n",
    "# Print the results\n",
    "print(scores)"
   ]
  },
  {
   "cell_type": "code",
   "execution_count": 32,
   "id": "2c56561c-b73d-4899-95fa-6bb8c2e43d41",
   "metadata": {},
   "outputs": [
    {
     "name": "stdout",
     "output_type": "stream",
     "text": [
      "[{'rouge-1': {'r': 0.6438356164383562, 'p': 0.6811594202898551, 'f': 0.661971825989883}, 'rouge-2': {'r': 0.4727272727272727, 'p': 0.5473684210526316, 'f': 0.5073170681975016}, 'rouge-l': {'r': 0.6301369863013698, 'p': 0.6666666666666666, 'f': 0.6478873189476295}}]\n"
     ]
    }
   ],
   "source": [
    "# Define the generated summary (GPT summary) and the reference summary\n",
    "generated_summary = '''\n",
    "Scientists say they have discovered a new species of orangutans on\n",
    "Indonesia’s island of Sumatra.\n",
    "The population differs in several ways from the two existing orangutan\n",
    "species found in Sumatra and the neighboring island of Borneo.\n",
    "They say the animals are considered a new species because of genetic,\n",
    "skeletal and tooth differences.\n",
    "They live within an area covering about 1,000 square kilometers.\n",
    "That is because the environment which they depend on is greatly\n",
    "threatened by development.\n",
    "In addition, the writers of the study are recommending that plans for a\n",
    "hydropower center in the area be stopped by the government\n",
    "'''\n",
    "reference_summary = '''\n",
    "Scientists say they have discovered a new species of orangutans on\n",
    "Indonesia’s island of Sumatra.\n",
    "They say the animals are considered a new species because of genetic,\n",
    "skeletal and tooth differences.\n",
    "Research into the new species began in 2013, when an orangutan\n",
    "protection group in Sumatra found an injured orangutan in an area far\n",
    "away from the other species.\n",
    "The Tapanuli orangutans also have a different diet and are found only\n",
    "in higher forest areas.\n",
    "In addition, the writers of the study are recommending that plans for a\n",
    "hydropower center in the area be stopped by the government.\n",
    "It also recommended that remaining forest in the Sumatran area where\n",
    "the orangutans live be protected.\n",
    "'''\n",
    "# Initialize the ROUGE object\n",
    "rouge = Rouge()\n",
    "# Calculate ROUGE for the generated and reference summaries\n",
    "scores = rouge.get_scores(generated_summary, reference_summary)\n",
    "# Print the results\n",
    "print(scores)"
   ]
  },
  {
   "cell_type": "code",
   "execution_count": null,
   "id": "09a2ef72-0afc-47c9-83d0-d2f7459fb5c8",
   "metadata": {},
   "outputs": [],
   "source": []
  }
 ],
 "metadata": {
  "kernelspec": {
   "display_name": "Python 3 (ipykernel)",
   "language": "python",
   "name": "python3"
  },
  "language_info": {
   "codemirror_mode": {
    "name": "ipython",
    "version": 3
   },
   "file_extension": ".py",
   "mimetype": "text/x-python",
   "name": "python",
   "nbconvert_exporter": "python",
   "pygments_lexer": "ipython3",
   "version": "3.11.7"
  }
 },
 "nbformat": 4,
 "nbformat_minor": 5
}
